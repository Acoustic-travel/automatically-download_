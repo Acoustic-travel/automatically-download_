{
  "nbformat": 4,
  "nbformat_minor": 0,
  "metadata": {
    "colab": {
      "provenance": [],
      "toc_visible": true
    },
    "kernelspec": {
      "name": "python3",
      "display_name": "Python 3"
    },
    "language_info": {
      "name": "python"
    }
  },
  "cells": [
    {
      "cell_type": "code",
      "execution_count": 40,
      "metadata": {
        "colab": {
          "base_uri": "https://localhost:8080/"
        },
        "id": "-1DAimVvjHsh",
        "outputId": "034b7dd5-baf9-49ab-fc18-3c475f72a938"
      },
      "outputs": [
        {
          "output_type": "stream",
          "name": "stdout",
          "text": [
            "\u001b[33m\r0% [Working]\u001b[0m\r            \rHit:1 https://cloud.r-project.org/bin/linux/ubuntu jammy-cran40/ InRelease\n",
            "\u001b[33m\r0% [Connecting to archive.ubuntu.com] [Connecting to security.ubuntu.com (185.1\u001b[0m\r                                                                               \rHit:2 https://developer.download.nvidia.com/compute/cuda/repos/ubuntu2204/x86_64  InRelease\n",
            "Hit:3 https://cli.github.com/packages stable InRelease\n",
            "Hit:4 http://archive.ubuntu.com/ubuntu jammy InRelease\n",
            "Hit:5 http://security.ubuntu.com/ubuntu jammy-security InRelease\n",
            "Hit:6 https://r2u.stat.illinois.edu/ubuntu jammy InRelease\n",
            "Hit:7 http://archive.ubuntu.com/ubuntu jammy-updates InRelease\n",
            "Hit:8 http://archive.ubuntu.com/ubuntu jammy-backports InRelease\n",
            "Hit:9 https://ppa.launchpadcontent.net/deadsnakes/ppa/ubuntu jammy InRelease\n",
            "Hit:10 https://ppa.launchpadcontent.net/graphics-drivers/ppa/ubuntu jammy InRelease\n",
            "Hit:11 https://ppa.launchpadcontent.net/ubuntugis/ppa/ubuntu jammy InRelease\n",
            "Reading package lists... Done\n",
            "Building dependency tree... Done\n",
            "Reading state information... Done\n",
            "49 packages can be upgraded. Run 'apt list --upgradable' to see them.\n",
            "\u001b[1;33mW: \u001b[0mSkipping acquire of configured file 'main/source/Sources' as repository 'https://r2u.stat.illinois.edu/ubuntu jammy InRelease' does not seem to provide it (sources.list entry misspelt?)\u001b[0m\n"
          ]
        }
      ],
      "source": [
        "!apt update"
      ]
    },
    {
      "cell_type": "code",
      "source": [
        "!apt install -y chromium-chromedriver"
      ],
      "metadata": {
        "colab": {
          "base_uri": "https://localhost:8080/"
        },
        "id": "q3iiVmlWjKnH",
        "outputId": "852d1c7d-74fc-4975-ac7c-935335045b87"
      },
      "execution_count": 41,
      "outputs": [
        {
          "output_type": "stream",
          "name": "stdout",
          "text": [
            "Reading package lists... Done\n",
            "Building dependency tree... Done\n",
            "Reading state information... Done\n",
            "chromium-chromedriver is already the newest version (1:85.0.4183.83-0ubuntu2.22.04.1).\n",
            "0 upgraded, 0 newly installed, 0 to remove and 49 not upgraded.\n"
          ]
        }
      ]
    },
    {
      "cell_type": "code",
      "source": [
        "!cp /usr/lib/chromium-browser/chromedriver /usr/bin"
      ],
      "metadata": {
        "colab": {
          "base_uri": "https://localhost:8080/"
        },
        "id": "M240-vGVjK1f",
        "outputId": "338cb17a-1b22-4729-ed0b-27f25f733cec"
      },
      "execution_count": 42,
      "outputs": [
        {
          "output_type": "stream",
          "name": "stdout",
          "text": [
            "cp: '/usr/lib/chromium-browser/chromedriver' and '/usr/bin/chromedriver' are the same file\n"
          ]
        }
      ]
    },
    {
      "cell_type": "code",
      "source": [
        "!apt install -y tesseract-ocr"
      ],
      "metadata": {
        "colab": {
          "base_uri": "https://localhost:8080/"
        },
        "id": "39Rn3dVIjK5R",
        "outputId": "717e556a-9abb-4172-df4f-ae8b24336e87"
      },
      "execution_count": 43,
      "outputs": [
        {
          "output_type": "stream",
          "name": "stdout",
          "text": [
            "Reading package lists... Done\n",
            "Building dependency tree... Done\n",
            "Reading state information... Done\n",
            "tesseract-ocr is already the newest version (4.1.1-2.1build1).\n",
            "0 upgraded, 0 newly installed, 0 to remove and 49 not upgraded.\n"
          ]
        }
      ]
    },
    {
      "cell_type": "code",
      "source": [
        "!pip install selenium pandas requests pillow"
      ],
      "metadata": {
        "colab": {
          "base_uri": "https://localhost:8080/"
        },
        "id": "fJ8rbRFBjukM",
        "outputId": "f558b836-f66a-4860-aadf-032a9fb553d6"
      },
      "execution_count": 44,
      "outputs": [
        {
          "output_type": "stream",
          "name": "stdout",
          "text": [
            "Requirement already satisfied: selenium in /usr/local/lib/python3.12/dist-packages (4.35.0)\n",
            "Requirement already satisfied: pandas in /usr/local/lib/python3.12/dist-packages (2.2.2)\n",
            "Requirement already satisfied: requests in /usr/local/lib/python3.12/dist-packages (2.32.4)\n",
            "Requirement already satisfied: pillow in /usr/local/lib/python3.12/dist-packages (11.3.0)\n",
            "Requirement already satisfied: urllib3<3.0,>=2.5.0 in /usr/local/lib/python3.12/dist-packages (from urllib3[socks]<3.0,>=2.5.0->selenium) (2.5.0)\n",
            "Requirement already satisfied: trio~=0.30.0 in /usr/local/lib/python3.12/dist-packages (from selenium) (0.30.0)\n",
            "Requirement already satisfied: trio-websocket~=0.12.2 in /usr/local/lib/python3.12/dist-packages (from selenium) (0.12.2)\n",
            "Requirement already satisfied: certifi>=2025.6.15 in /usr/local/lib/python3.12/dist-packages (from selenium) (2025.8.3)\n",
            "Requirement already satisfied: typing_extensions~=4.14.0 in /usr/local/lib/python3.12/dist-packages (from selenium) (4.14.1)\n",
            "Requirement already satisfied: websocket-client~=1.8.0 in /usr/local/lib/python3.12/dist-packages (from selenium) (1.8.0)\n",
            "Requirement already satisfied: numpy>=1.26.0 in /usr/local/lib/python3.12/dist-packages (from pandas) (2.0.2)\n",
            "Requirement already satisfied: python-dateutil>=2.8.2 in /usr/local/lib/python3.12/dist-packages (from pandas) (2.9.0.post0)\n",
            "Requirement already satisfied: pytz>=2020.1 in /usr/local/lib/python3.12/dist-packages (from pandas) (2025.2)\n",
            "Requirement already satisfied: tzdata>=2022.7 in /usr/local/lib/python3.12/dist-packages (from pandas) (2025.2)\n",
            "Requirement already satisfied: charset_normalizer<4,>=2 in /usr/local/lib/python3.12/dist-packages (from requests) (3.4.3)\n",
            "Requirement already satisfied: idna<4,>=2.5 in /usr/local/lib/python3.12/dist-packages (from requests) (3.10)\n",
            "Requirement already satisfied: six>=1.5 in /usr/local/lib/python3.12/dist-packages (from python-dateutil>=2.8.2->pandas) (1.17.0)\n",
            "Requirement already satisfied: attrs>=23.2.0 in /usr/local/lib/python3.12/dist-packages (from trio~=0.30.0->selenium) (25.3.0)\n",
            "Requirement already satisfied: sortedcontainers in /usr/local/lib/python3.12/dist-packages (from trio~=0.30.0->selenium) (2.4.0)\n",
            "Requirement already satisfied: outcome in /usr/local/lib/python3.12/dist-packages (from trio~=0.30.0->selenium) (1.3.0.post0)\n",
            "Requirement already satisfied: sniffio>=1.3.0 in /usr/local/lib/python3.12/dist-packages (from trio~=0.30.0->selenium) (1.3.1)\n",
            "Requirement already satisfied: wsproto>=0.14 in /usr/local/lib/python3.12/dist-packages (from trio-websocket~=0.12.2->selenium) (1.2.0)\n",
            "Requirement already satisfied: pysocks!=1.5.7,<2.0,>=1.5.6 in /usr/local/lib/python3.12/dist-packages (from urllib3[socks]<3.0,>=2.5.0->selenium) (1.7.1)\n",
            "Requirement already satisfied: h11<1,>=0.9.0 in /usr/local/lib/python3.12/dist-packages (from wsproto>=0.14->trio-websocket~=0.12.2->selenium) (0.16.0)\n"
          ]
        }
      ]
    },
    {
      "cell_type": "code",
      "source": [
        "import os\n",
        "import re\n",
        "import time\n",
        "import pandas as pd\n",
        "from datetime import datetime, timedelta\n",
        "from selenium import webdriver\n",
        "from selenium.webdriver.common.by import By\n",
        "from selenium.webdriver.support.ui import Select\n",
        "from selenium.common.exceptions import NoSuchElementException\n",
        "from selenium.webdriver.chrome.service import Service\n",
        "from IPython.display import Image, display\n",
        "import requests\n",
        "from io import BytesIO"
      ],
      "metadata": {
        "id": "5cPNA8AOj10D"
      },
      "execution_count": 45,
      "outputs": []
    },
    {
      "cell_type": "code",
      "source": [
        "# Set up headless Chrome\n",
        "options = webdriver.ChromeOptions()\n",
        "options.add_argument('--headless')\n",
        "options.add_argument('--no-sandbox')\n",
        "options.add_argument('--disable-dev-shm-usage')\n",
        "driver = webdriver.Chrome(options=options)"
      ],
      "metadata": {
        "id": "qOihwLuZbGXR"
      },
      "execution_count": 46,
      "outputs": []
    },
    {
      "cell_type": "code",
      "source": [
        "# Directories and files\n",
        "os.makedirs('/content/judgments', exist_ok=True)\n",
        "csv_path = '/content/judgments.csv'"
      ],
      "metadata": {
        "id": "TcdKEFg6j8az"
      },
      "execution_count": 47,
      "outputs": []
    },
    {
      "cell_type": "code",
      "source": [
        "# Load existing CSV or create new\n",
        "columns = ['SNo', 'JudgmentDate', 'CaseDetails', 'Parties', 'Bench', 'Reportable', 'PdfName']  # Assumed columns\n",
        "if os.path.exists(csv_path):\n",
        "    df = pd.read_csv(csv_path)\n",
        "else:\n",
        "    df = pd.DataFrame(columns=columns)"
      ],
      "metadata": {
        "id": "uDZx8VV1lL41"
      },
      "execution_count": 48,
      "outputs": []
    },
    {
      "cell_type": "code",
      "source": [
        "# Create set of unique keys (JudgmentDate + CaseDetails)\n",
        "existing_keys = set(df['JudgmentDate'] + '|' + df['CaseDetails'])"
      ],
      "metadata": {
        "id": "89Ur61tqlxqN"
      },
      "execution_count": 49,
      "outputs": []
    },
    {
      "cell_type": "code",
      "source": [
        "# Calculate dates (use current date; in script, it's dynamic)\n",
        "today = datetime.now()\n",
        "from_date = (today - timedelta(days=10)).strftime('%d-%m-%Y')\n",
        "to_date = today.strftime('%d-%m-%Y')"
      ],
      "metadata": {
        "id": "Nxi8FxlPmdl6"
      },
      "execution_count": 50,
      "outputs": []
    },
    {
      "cell_type": "code",
      "source": [
        "# Navigate to the site\n",
        "driver.get('https://hcraj.nic.in/cishcraj-jdp/JudgementFilters/')"
      ],
      "metadata": {
        "id": "fDee8u7WmdpR"
      },
      "execution_count": 51,
      "outputs": []
    },
    {
      "cell_type": "code",
      "source": [
        "# Fill form (adjust field names if needed via browser inspection)\n",
        "driver.find_element(By.ID, 'partyFromDate').send_keys(from_date)  # Assume NAME; could be ID\n",
        "driver.find_element(By.ID, 'partyToDate').send_keys(to_date)"
      ],
      "metadata": {
        "id": "issgwgqymiD8"
      },
      "execution_count": 52,
      "outputs": []
    },
    {
      "cell_type": "code",
      "source": [
        "from selenium.webdriver.common.by import By\n",
        "from selenium.webdriver.support.ui import WebDriverWait\n",
        "from selenium.webdriver.support import expected_conditions as EC"
      ],
      "metadata": {
        "id": "skYePwgx7LjU"
      },
      "execution_count": 53,
      "outputs": []
    },
    {
      "cell_type": "code",
      "source": [
        "# Wait for the Yes radio button\n",
        "yes_radio = WebDriverWait(driver, 10).until(\n",
        "    EC.element_to_be_clickable((By.ID, 'rpjudgeY'))\n",
        ")\n",
        "\n",
        "# Click the Yes radio button\n",
        "yes_radio.click()"
      ],
      "metadata": {
        "id": "_sfMtp1V7On-"
      },
      "execution_count": 54,
      "outputs": []
    },
    {
      "cell_type": "code",
      "source": [
        "import base64\n",
        "from PIL import Image\n",
        "from io import BytesIO"
      ],
      "metadata": {
        "id": "jZu6sIVSAa7y"
      },
      "execution_count": 55,
      "outputs": []
    },
    {
      "cell_type": "code",
      "source": [
        "captcha_img = driver.find_element(By.ID, 'captcha')\n",
        "captcha_src = captcha_img.get_attribute('src')\n",
        "if captcha_src.startswith('/'):\n",
        "    captcha_src = 'https://hcraj.nic.in' + captcha_src\n",
        "\n",
        "captcha_base64 = captcha_src.split(',')[1]\n",
        "captcha_bytes = base64.b64decode(captcha_base64)\n",
        "img = Image.open(BytesIO(captcha_bytes))\n",
        "display(img)\n"
      ],
      "metadata": {
        "colab": {
          "base_uri": "https://localhost:8080/",
          "height": 57
        },
        "id": "ntJk3Hn8GCBQ",
        "outputId": "081c94e1-1fab-4a0a-de55-97dec509b681"
      },
      "execution_count": 56,
      "outputs": [
        {
          "output_type": "display_data",
          "data": {
            "text/plain": [
              "<PIL.PngImagePlugin.PngImageFile image mode=P size=210x40>"
            ],
            "image/png": "[encoded data removed]"
          },
          "metadata": {}
        }
      ]
    },
    {
      "cell_type": "code",
      "source": [
        "captcha_text = input('Enter the CAPTCHA text: ')\n",
        "driver.find_element(By.ID, 'txtCaptcha').send_keys(captcha_text)"
      ],
      "metadata": {
        "colab": {
          "base_uri": "https://localhost:8080/"
        },
        "id": "tm0wpJcLGD3r",
        "outputId": "ad8ab590-679c-4ecc-88f8-fee6f20cc365"
      },
      "execution_count": 57,
      "outputs": [
        {
          "name": "stdout",
          "output_type": "stream",
          "text": [
            "Enter the CAPTCHA text: 159220\n"
          ]
        }
      ]
    },
    {
      "cell_type": "code",
      "source": [
        "# Wait until the button is clickable\n",
        "search_button = WebDriverWait(driver, 10).until(\n",
        "    EC.element_to_be_clickable((By.ID, 'btncasedetail1_1'))\n",
        ")\n",
        "search_button.click()\n",
        "\n",
        "# Wait until results table is visible\n",
        "WebDriverWait(driver, 10).until(\n",
        "    EC.visibility_of_element_located((By.ID, 'div_datatable'))\n",
        ")"
      ],
      "metadata": {
        "colab": {
          "base_uri": "https://localhost:8080/"
        },
        "id": "KATGYsm5Hm-h",
        "outputId": "01c0100e-914f-4e39-b94f-96cc1e9d545a"
      },
      "execution_count": 58,
      "outputs": [
        {
          "output_type": "execute_result",
          "data": {
            "text/plain": [
              "<selenium.webdriver.remote.webelement.WebElement (session=\"aaf30af4a412397b7e6c85f0644cde29\", element=\"f.1289CB6FF2333C363C3554BAE82E46E6.d.AFB528CE5BD2534C21E49D5BA17C466F.e.214\")>"
            ]
          },
          "metadata": {},
          "execution_count": 58
        }
      ]
    },
    {
      "cell_type": "code",
      "source": [
        "# Get cookies for requests session (in case PDFs need session)\n",
        "sess = requests.Session()\n",
        "for cookie in driver.get_cookies():\n",
        "    sess.cookies.set(cookie['name'], cookie['value'])"
      ],
      "metadata": {
        "id": "kbnChX_RI-Yp"
      },
      "execution_count": 59,
      "outputs": []
    },
    {
      "cell_type": "code",
      "source": [
        "\n",
        "new_rows = []\n",
        "\n",
        "while True:\n",
        "    try:\n",
        "        table = driver.find_element(By.CSS_SELECTOR, \"#div_datatable table\")\n",
        "        rows = table.find_elements(By.TAG_NAME, 'tr')[1:]  # skip header\n",
        "\n",
        "        for row in rows:\n",
        "            tds = row.find_elements(By.TAG_NAME, 'td')\n",
        "            if len(tds) < 7:\n",
        "                continue\n",
        "\n",
        "            sno = tds[0].text\n",
        "            judgment_date = tds[1].text\n",
        "            case_details = tds[2].text\n",
        "            parties = tds[3].text\n",
        "            bench = tds[4].text\n",
        "            reportable = tds[5].text\n",
        "            pdf_link = tds[6].find_element(By.TAG_NAME, 'a').get_attribute('href')\n",
        "\n",
        "            unique_key = judgment_date + '|' + case_details\n",
        "            if unique_key in existing_keys:\n",
        "                continue\n",
        "\n",
        "            # Clean filename\n",
        "            safe_case = case_details.replace('/', '_').replace('\\\\', '_').replace(':', '_')\n",
        "            safe_date = judgment_date.replace('/', '_')\n",
        "            pdf_name = f\"{safe_case}_{safe_date}.pdf\"\n",
        "            pdf_path = os.path.join('/content/judgments', pdf_name)\n",
        "\n",
        "            # Download PDF\n",
        "            pdf_response = sess.get(pdf_link)\n",
        "            with open(pdf_path, 'wb') as f:\n",
        "                f.write(pdf_response.content)\n",
        "\n",
        "            # Add to new rows\n",
        "            new_rows.append({\n",
        "                'SNo': sno,\n",
        "                'JudgmentDate': judgment_date,\n",
        "                'CaseDetails': case_details,\n",
        "                'Parties': parties,\n",
        "                'Bench': bench,\n",
        "                'Reportable': reportable,\n",
        "                'PdfName': pdf_name\n",
        "            })\n",
        "\n",
        "            existing_keys.add(unique_key)\n",
        "\n",
        "        # Pagination\n",
        "        try:\n",
        "            next_btn = driver.find_element(By.XPATH, \"//a[contains(text(),'Next')]\")\n",
        "            if 'disabled' in next_btn.get_attribute('class'):\n",
        "                break\n",
        "            next_btn.click()\n",
        "            time.sleep(2)\n",
        "        except NoSuchElementException:\n",
        "            break\n",
        "\n",
        "    except NoSuchElementException:\n",
        "        break\n",
        "\n",
        "# Save CSV\n",
        "if new_rows:\n",
        "    new_df = pd.DataFrame(new_rows)\n",
        "    df = pd.concat([df, new_df], ignore_index=True)\n",
        "    df.to_csv(csv_path, index=False)\n",
        "    print(f\"Added {len(new_rows)} new judgments.\")\n",
        "else:\n",
        "    print(\"No new judgments found.\")"
      ],
      "metadata": {
        "colab": {
          "base_uri": "https://localhost:8080/"
        },
        "id": "iZ7DiHhtXk9G",
        "outputId": "2265c651-e3d8-4b4f-c0c3-1c8ed052fa79"
      },
      "execution_count": 60,
      "outputs": [
        {
          "output_type": "stream",
          "name": "stdout",
          "text": [
            "No new judgments found.\n"
          ]
        }
      ]
    },
    {
      "cell_type": "code",
      "source": [
        "driver.quit()\n"
      ],
      "metadata": {
        "id": "w9n_O-sKXqUf"
      },
      "execution_count": 61,
      "outputs": []
    },
    {
      "cell_type": "code",
      "source": [
        "from google.colab import files\n",
        "\n",
        "# Define CSV path\n",
        "csv_path = '/content/judgments.csv'\n",
        "\n",
        "# Save CSV\n",
        "if new_rows:\n",
        "    new_df = pd.DataFrame(new_rows)\n",
        "    # Load existing DataFrame if it exists and is not empty, otherwise use just the new_df\n",
        "    if 'df' in globals() and not df.empty:\n",
        "        df = pd.concat([df, new_df], ignore_index=True)\n",
        "    else:\n",
        "        df = new_df\n",
        "    df.to_csv(csv_path, index=False)\n",
        "    print(f\"Added {len(new_rows)} new judgments.\")\n",
        "elif 'df' in globals() and not df.empty:\n",
        "    # If no new rows but existing df is not empty, save the existing df\n",
        "    df.to_csv(csv_path, index=False)\n",
        "    print(\"No new judgments found. Saved existing data.\")\n",
        "else:\n",
        "    print(\"No new judgments found and no existing data to save.\")\n",
        "\n",
        "\n",
        "# Download CSV if exists\n",
        "if os.path.exists(csv_path):\n",
        "    files.download(csv_path)\n",
        "else:\n",
        "    print(\"CSV file not found. Skipping download.\")\n",
        "\n",
        "# Zip judgments folder safely\n",
        "zip_path = '/content/judgments.zip'\n",
        "if os.path.exists('/content/judgments'):\n",
        "    !zip -r {zip_path} /content/judgments\n",
        "    time.sleep(1)\n",
        "    if os.path.exists(zip_path):\n",
        "        files.download(zip_path)\n",
        "    else:\n",
        "        print(\"ZIP file not created.\")\n",
        "else:\n",
        "    print(\"Judgments folder not found. Skipping ZIP.\")\n",
        "\n",
        "# Close Selenium driver (Moved to the very end)"
      ],
      "metadata": {
        "colab": {
          "base_uri": "https://localhost:8080/",
          "height": 69
        },
        "id": "pO-gmGEwYyHu",
        "outputId": "ef70160c-be2a-4992-95e3-dd7a3c109d48"
      },
      "execution_count": 62,
      "outputs": [
        {
          "output_type": "stream",
          "name": "stdout",
          "text": [
            "No new judgments found and no existing data to save.\n",
            "CSV file not found. Skipping download.\n",
            "updating: content/judgments/ (stored 0%)\n"
          ]
        },
        {
          "output_type": "display_data",
          "data": {
            "text/plain": [
              "<IPython.core.display.Javascript object>"
            ],
            "application/javascript": [
              "\n",
              "    async function download(id, filename, size) {\n",
              "      if (!google.colab.kernel.accessAllowed) {\n",
              "        return;\n",
              "      }\n",
              "      const div = document.createElement('div');\n",
              "      const label = document.createElement('label');\n",
              "      label.textContent = `Downloading \"${filename}\": `;\n",
              "      div.appendChild(label);\n",
              "      const progress = document.createElement('progress');\n",
              "      progress.max = size;\n",
              "      div.appendChild(progress);\n",
              "      document.body.appendChild(div);\n",
              "\n",
              "      const buffers = [];\n",
              "      let downloaded = 0;\n",
              "\n",
              "      const channel = await google.colab.kernel.comms.open(id);\n",
              "      // Send a message to notify the kernel that we're ready.\n",
              "      channel.send({})\n",
              "\n",
              "      for await (const message of channel.messages) {\n",
              "        // Send a message to notify the kernel that we're ready.\n",
              "        channel.send({})\n",
              "        if (message.buffers) {\n",
              "          for (const buffer of message.buffers) {\n",
              "            buffers.push(buffer);\n",
              "            downloaded += buffer.byteLength;\n",
              "            progress.value = downloaded;\n",
              "          }\n",
              "        }\n",
              "      }\n",
              "      const blob = new Blob(buffers, {type: 'application/binary'});\n",
              "      const a = document.createElement('a');\n",
              "      a.href = window.URL.createObjectURL(blob);\n",
              "      a.download = filename;\n",
              "      div.appendChild(a);\n",
              "      a.click();\n",
              "      div.remove();\n",
              "    }\n",
              "  "
            ]
          },
          "metadata": {}
        },
        {
          "output_type": "display_data",
          "data": {
            "text/plain": [
              "<IPython.core.display.Javascript object>"
            ],
            "application/javascript": [
              "download(\"download_55178245-3b99-4527-89ce-6a429825c69b\", \"judgments.zip\", 186)"
            ]
          },
          "metadata": {}
        }
      ]
    },
    {
      "cell_type": "code",
      "source": [],
      "metadata": {
        "id": "bVqNRUIiX1YW"
      },
      "execution_count": 62,
      "outputs": []
    },
    {
      "cell_type": "code",
      "source": [],
      "metadata": {
        "id": "HVYttp7fX1gi"
      },
      "execution_count": 62,
      "outputs": []
    }
  ]
}